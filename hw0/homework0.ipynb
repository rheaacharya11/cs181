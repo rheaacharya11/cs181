{
 "cells": [
  {
   "cell_type": "code",
   "execution_count": 2,
   "id": "db111e02",
   "metadata": {},
   "outputs": [],
   "source": [
    "# standard imports\n",
    "import numpy as np\n",
    "import pandas as pd\n",
    "import matplotlib.pyplot as plt\n",
    "import seaborn as sns\n",
    "from scipy.stats import multivariate_normal as mvn"
   ]
  },
  {
   "cell_type": "markdown",
   "id": "e7320304",
   "metadata": {},
   "source": [
    "## 2.1 Plot $y = -3x^2 + 72x + 70$."
   ]
  },
  {
   "cell_type": "code",
   "execution_count": 3,
   "id": "de64175e",
   "metadata": {},
   "outputs": [],
   "source": [
    "# Define the coefficients a, b, and c for the parabola y = ax^2 + bx + c\n",
    "a = -3\n",
    "b = 72\n",
    "c = 70\n",
    "\n",
    "# Define the parabola function\n",
    "def parabola(x):\n",
    "    return a * x ** 2 + b * x + c\n",
    "\n",
    "# Generate a range of x values\n",
    "x = np.linspace(-10, 10, 400)\n",
    "\n",
    "# Calculate the y values based on the parabola function\n",
    "y = parabola(x)\n",
    "\n",
    "# Plot the graph\n",
    "plt.figure(figsize=(8, 6))\n",
    "plt.plot(x, y, label='y = {}x^2 + {}x + {}'.format(a, b, c))\n",
    "\n",
    "plt.title('Parabola')\n",
    "plt.xlabel('x')\n",
    "plt.ylabel('y')\n",
    "plt.axhline(0, color='black',linewidth=0.5)\n",
    "plt.axvline(0, color='black',linewidth=0.5)\n",
    "plt.grid(color = 'gray', linestyle = '--', linewidth = 0.5)\n",
    "plt.legend()\n",
    "plt.show()"
   ]
  },
  {
   "cell_type": "markdown",
   "id": "bfe7bd0a",
   "metadata": {},
   "source": [
    "## 2.3 Plot $f(x_1, x_2)$."
   ]
  },
  {
   "cell_type": "code",
   "execution_count": 4,
   "id": "5130b447",
   "metadata": {},
   "outputs": [],
   "source": [
    "# Your code here"
   ]
  },
  {
   "cell_type": "markdown",
   "id": "73293532",
   "metadata": {},
   "source": [
    "## 3.1(a) Draw from joint distribution of $(S, W)$ and generate bivariate histogram."
   ]
  },
  {
   "cell_type": "code",
   "execution_count": 5,
   "id": "f8add966",
   "metadata": {},
   "outputs": [],
   "source": [
    "# Your code here"
   ]
  },
  {
   "cell_type": "markdown",
   "id": "be0744ef",
   "metadata": {},
   "source": [
    "## 3.2 Plot the joint PDFs at $S=118$ and $S=122$, varying $W$."
   ]
  },
  {
   "cell_type": "code",
   "execution_count": 6,
   "id": "06df8bb3",
   "metadata": {},
   "outputs": [],
   "source": [
    "# Your code here"
   ]
  },
  {
   "cell_type": "markdown",
   "id": "0889f71d",
   "metadata": {},
   "source": [
    "## 3.5(a) Function to simulate draws from $T^{*}$."
   ]
  },
  {
   "cell_type": "code",
   "execution_count": 7,
   "id": "1483559c",
   "metadata": {},
   "outputs": [],
   "source": [
    "# Your code here"
   ]
  },
  {
   "cell_type": "markdown",
   "id": "13646fb6",
   "metadata": {},
   "source": [
    "## 3.5(b) Empirically estimate the mean and standard deviation of $T^{*}$ by generating $1000$ samples."
   ]
  },
  {
   "cell_type": "code",
   "execution_count": 8,
   "id": "fdd1f260",
   "metadata": {},
   "outputs": [],
   "source": [
    "# Your code here"
   ]
  }
 ],
 "metadata": {
  "kernelspec": {
   "display_name": "Python 3",
   "language": "python",
   "name": "python3"
  },
  "language_info": {
   "codemirror_mode": {
    "name": "ipython",
    "version": 3
   },
   "file_extension": ".py",
   "mimetype": "text/x-python",
   "name": "python",
   "nbconvert_exporter": "python",
   "pygments_lexer": "ipython3",
   "version": "3.10.2"
  },
  "vscode": {
   "interpreter": {
    "hash": "aee8b7b246df8f9039afb4144a1f6fd8d2ca17a180786b69acc140d282b71a49"
   }
  }
 },
 "nbformat": 4,
 "nbformat_minor": 5
}
